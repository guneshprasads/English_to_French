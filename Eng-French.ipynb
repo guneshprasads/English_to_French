{
 "cells": [
  {
   "cell_type": "code",
   "execution_count": 57,
   "id": "e8d8f8a2-4a8c-40f4-be33-aafc3c3c1077",
   "metadata": {},
   "outputs": [],
   "source": [
    "import pandas as pd\n",
    "import numpy as np\n",
    "import nltk\n",
    "import string\n",
    "import re\n",
    "from nltk.tokenize import word_tokenize\n",
    "from nltk.corpus import stopwords\n",
    "from nltk.stem import WordNetLemmatizer\n",
    "from nltk.stem.snowball import FrenchStemmer"
   ]
  },
  {
   "cell_type": "code",
   "execution_count": 59,
   "id": "b18f7606-0494-45be-8b86-ebef245c518f",
   "metadata": {},
   "outputs": [],
   "source": [
    "df = pd.read_csv('Datasets/eng_-french.csv')"
   ]
  },
  {
   "cell_type": "code",
   "execution_count": 61,
   "id": "4dbb77d9-17a9-4a7f-87d5-0d3b59b498d9",
   "metadata": {},
   "outputs": [],
   "source": [
    "lemmatizer = WordNetLemmatizer()\n",
    "french_stemmer = FrenchStemmer()\n",
    "stopwords_dict = {\n",
    "    'english': set(stopwords.words('english')),\n",
    "    'french': set(stopwords.words('french'))\n",
    "}"
   ]
  },
  {
   "cell_type": "code",
   "execution_count": 63,
   "id": "8050ca64-33f0-4f26-b7c1-7560ddd04db2",
   "metadata": {},
   "outputs": [],
   "source": [
    "def preprocess(text,lang = 'english'):\n",
    "    if pd.isnull(text):\n",
    "        return \"\"\n",
    "    text = text.lower()\n",
    "    text = text.translate(str.maketrans('','',string.punctuation))\n",
    "    tokens = word_tokenize(text, language=lang)\n",
    "    tokens = [w for w in tokens if w not in stopwords_dict[lang]]\n",
    "    if lang == 'english':\n",
    "        tokens = [lemmatizer.lemmatize(w, pos='v') for w in tokens]\n",
    "    elif lang == 'french':\n",
    "        tokens = [french_stemmer.stem(w) for w in tokens]\n",
    "    return \" \".join(tokens)"
   ]
  },
  {
   "cell_type": "code",
   "execution_count": 73,
   "id": "81e95673-6a4d-4790-9382-77f2542ce18a",
   "metadata": {},
   "outputs": [],
   "source": [
    "df['English words/sentences'] = df['English words/sentences'].apply(lambda x: preprocess(x, lang='english'))\n",
    "df['French words/sentences'] = df['French words/sentences'].apply(lambda x: preprocess(x, lang='french'))"
   ]
  },
  {
   "cell_type": "code",
   "execution_count": 69,
   "id": "a66e4abd-26fd-4cee-8934-43d2038b5ed0",
   "metadata": {},
   "outputs": [],
   "source": [
    "df.to_csv('eng_-french',index = False)"
   ]
  },
  {
   "cell_type": "code",
   "execution_count": null,
   "id": "b6abc6d8-b264-4cbe-84f2-a666a729d41d",
   "metadata": {},
   "outputs": [],
   "source": []
  }
 ],
 "metadata": {
  "kernelspec": {
   "display_name": "Python 3 (ipykernel)",
   "language": "python",
   "name": "python3"
  },
  "language_info": {
   "codemirror_mode": {
    "name": "ipython",
    "version": 3
   },
   "file_extension": ".py",
   "mimetype": "text/x-python",
   "name": "python",
   "nbconvert_exporter": "python",
   "pygments_lexer": "ipython3",
   "version": "3.12.7"
  }
 },
 "nbformat": 4,
 "nbformat_minor": 5
}
