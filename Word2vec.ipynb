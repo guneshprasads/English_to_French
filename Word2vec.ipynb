{
 "cells": [
  {
   "cell_type": "code",
   "execution_count": 1,
   "id": "b8d2ae63-d561-4678-b169-22d6eb44fe68",
   "metadata": {},
   "outputs": [],
   "source": [
    "import pandas as pd\n",
    "import numpy as np\n",
    "import nltk\n",
    "import string\n",
    "import re\n",
    "from nltk.tokenize import word_tokenize\n",
    "from nltk.corpus import stopwords\n",
    "from nltk.stem import WordNetLemmatizer\n",
    "from nltk.stem.snowball import FrenchStemmer\n",
    "from gensim.models import Word2Vec"
   ]
  },
  {
   "cell_type": "code",
   "execution_count": 2,
   "id": "93f4fb1b-e194-4c46-b19c-fa90063ea17a",
   "metadata": {},
   "outputs": [],
   "source": [
    "df = pd.read_csv('Datasets/eng_-french.csv')"
   ]
  },
  {
   "cell_type": "code",
   "execution_count": 5,
   "id": "6366ac06-4232-4d8e-b2ef-47abdda95aa8",
   "metadata": {},
   "outputs": [],
   "source": [
    "lemmatizer = WordNetLemmatizer()\n",
    "french_stemmer = FrenchStemmer()\n",
    "stopwords_dict = {\n",
    "    'english': set(stopwords.words('english')),\n",
    "    'french': set(stopwords.words('french'))\n",
    "}"
   ]
  },
  {
   "cell_type": "code",
   "execution_count": 7,
   "id": "d8ddd305-5cb6-406b-90a5-8be41a3c6bc1",
   "metadata": {},
   "outputs": [],
   "source": [
    "def preprocess(text,lang = 'english'):\n",
    "    text = str(text).lower()                    # Lowercase\n",
    "    text = re.sub(r'[^a-z\\s]', '', text)       # Remove non-alpha characters\n",
    "    tokens = word_tokenize(text)                # Tokenize\n",
    "    return tokens"
   ]
  },
  {
   "cell_type": "code",
   "execution_count": 9,
   "id": "a1d66940-f984-46f2-a510-1637fa78032c",
   "metadata": {},
   "outputs": [],
   "source": [
    "# Train the Word2Vec model\n",
    "processed_sentences = df['English words/sentences'].dropna().apply(preprocess).tolist()\n",
    "model = Word2Vec(sentences=processed_sentences, vector_size=100, window=2, min_count=2, sg=1)"
   ]
  },
  {
   "cell_type": "code",
   "execution_count": 10,
   "id": "33616ed9-a39b-4e04-933c-28b2abd531c3",
   "metadata": {},
   "outputs": [
    {
     "name": "stdout",
     "output_type": "stream",
     "text": [
      "[-0.02971189  0.16888729  0.10020086  0.1851636   0.07614654 -0.23630017\n",
      "  0.13395193  0.5029142   0.17102318  0.03016806  0.2975275   0.19317417\n",
      "  0.23718745  0.10146327  0.2218319  -0.0020511  -0.05973211 -0.4780644\n",
      " -0.4830814  -0.8355477   0.45815754 -0.23737285  0.3002153  -0.24302572\n",
      " -0.02172985  0.4311383  -0.24550076 -0.3653356   0.09791467 -0.40352917\n",
      " -0.05130476  0.09011065  0.29711083 -0.40047765 -0.17823485 -0.11283351\n",
      " -0.10238396 -0.21203092 -0.04669774 -0.34871122 -0.29351595  0.2392059\n",
      "  0.03463447 -0.36166713 -0.17004208 -0.03142276 -0.31732842 -0.1211378\n",
      "  0.3037356   0.47842246  0.08278514 -0.09782737 -0.35096037  0.01657767\n",
      " -0.2624913  -0.23427255  0.42288435 -0.33222193  0.10314552 -0.05697725\n",
      "  0.11009596  0.18206663  0.02001542  0.21834579 -0.3907066  -0.1081484\n",
      " -0.37100935  0.12329057 -0.492214    0.11819088  0.2478876   0.1641348\n",
      "  0.20515914  0.30054447  0.48676166 -0.3263178   0.1504563  -0.0413226\n",
      " -0.75487393  0.12879875 -0.4943919  -0.24172454 -0.14539267  0.24833837\n",
      "  0.03955014 -0.10501476  0.25300056  0.16827269 -0.07953834  0.13535124\n",
      "  0.58299017  0.36811584  0.46261856 -0.16465372  0.29756188  0.4979856\n",
      " -0.02943719 -0.38537395 -0.39565635 -0.03589338]\n"
     ]
    }
   ],
   "source": [
    "print(model.wv['cat'])\n"
   ]
  },
  {
   "cell_type": "code",
   "execution_count": 11,
   "id": "bbd2c547-59fe-40c9-920a-55a020282a98",
   "metadata": {},
   "outputs": [
    {
     "name": "stdout",
     "output_type": "stream",
     "text": [
      "[('dog', 0.7863551378250122), ('burglar', 0.7153680324554443), ('leg', 0.7088578939437866), ('heart', 0.7053146362304688), ('wire', 0.7042065858840942), ('arm', 0.7021129131317139), ('boy', 0.7001907229423523), ('cousin', 0.6995438933372498), ('rabbit', 0.6979655027389526), ('engine', 0.693757951259613)]\n"
     ]
    }
   ],
   "source": [
    "print(model.wv.most_similar('cat'))\n"
   ]
  },
  {
   "cell_type": "code",
   "execution_count": 12,
   "id": "e76c39e9-7e41-479d-8317-70d63b00e1f2",
   "metadata": {},
   "outputs": [
    {
     "name": "stdout",
     "output_type": "stream",
     "text": [
      "0.78635514\n"
     ]
    }
   ],
   "source": [
    "print(model.wv.similarity('cat', 'dog'))\n"
   ]
  },
  {
   "cell_type": "code",
   "execution_count": null,
   "id": "7ada5ecb-b24d-4bc8-b771-38753c840dba",
   "metadata": {},
   "outputs": [],
   "source": []
  }
 ],
 "metadata": {
  "kernelspec": {
   "display_name": "Python 3 (ipykernel)",
   "language": "python",
   "name": "python3"
  },
  "language_info": {
   "codemirror_mode": {
    "name": "ipython",
    "version": 3
   },
   "file_extension": ".py",
   "mimetype": "text/x-python",
   "name": "python",
   "nbconvert_exporter": "python",
   "pygments_lexer": "ipython3",
   "version": "3.12.7"
  }
 },
 "nbformat": 4,
 "nbformat_minor": 5
}
